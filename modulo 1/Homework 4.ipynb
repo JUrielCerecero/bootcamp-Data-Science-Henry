{
 "cells": [
  {
   "cell_type": "code",
   "execution_count": 2,
   "metadata": {},
   "outputs": [],
   "source": [
    "import pandas as pd"
   ]
  },
  {
   "cell_type": "code",
   "execution_count": 3,
   "metadata": {},
   "outputs": [],
   "source": [
    "hospitales=pd.read_csv('hospitales2.csv')"
   ]
  },
  {
   "cell_type": "code",
   "execution_count": 4,
   "metadata": {},
   "outputs": [],
   "source": [
    "a=hospitales['WKT'].str.strip('POINT (').str.strip(')').str.strip(',')\n",
    "latitude=list(a[7:23] for a in hospitales['WKT']) ##lat=hospitales['WKT'].str.slice(25,-1)  obtener datos de una columna sin tanto codigo\n",
    "longitude=list(a[25:-1] for a in hospitales['WKT'])\n",
    "hospitales2=pd.DataFrame({'latitude':latitude,'longitude':longitude,'name':hospitales['DOM_NORMA'],'label':hospitales['NOMBRE']})"
   ]
  },
  {
   "cell_type": "code",
   "execution_count": 5,
   "metadata": {},
   "outputs": [
    {
     "data": {
      "text/html": [
       "<div>\n",
       "<style scoped>\n",
       "    .dataframe tbody tr th:only-of-type {\n",
       "        vertical-align: middle;\n",
       "    }\n",
       "\n",
       "    .dataframe tbody tr th {\n",
       "        vertical-align: top;\n",
       "    }\n",
       "\n",
       "    .dataframe thead th {\n",
       "        text-align: right;\n",
       "    }\n",
       "</style>\n",
       "<table border=\"1\" class=\"dataframe\">\n",
       "  <thead>\n",
       "    <tr style=\"text-align: right;\">\n",
       "      <th></th>\n",
       "      <th>latitude</th>\n",
       "      <th>longitude</th>\n",
       "      <th>name</th>\n",
       "      <th>label</th>\n",
       "    </tr>\n",
       "  </thead>\n",
       "  <tbody>\n",
       "    <tr>\n",
       "      <th>0</th>\n",
       "      <td>-58.377550848844</td>\n",
       "      <td>-34.6288473603881</td>\n",
       "      <td>MONTES DE OCA, MANUEL AV. 40</td>\n",
       "      <td>HOSPITAL GENERAL DE NIÑOS PEDRO DE ELIZALDE</td>\n",
       "    </tr>\n",
       "    <tr>\n",
       "      <th>1</th>\n",
       "      <td>-58.412070076945</td>\n",
       "      <td>-34.5941919726393</td>\n",
       "      <td>GALLO 1330</td>\n",
       "      <td>HOSPITAL GENERAL DE NIÑOS RICARDO GUTIERREZ</td>\n",
       "    </tr>\n",
       "    <tr>\n",
       "      <th>2</th>\n",
       "      <td>-58.402727654782</td>\n",
       "      <td>-34.5845283357505</td>\n",
       "      <td>SANCHEZ DE BUSTAMANTE 2529</td>\n",
       "      <td>HOSPITAL DE ODONTOLOGIA DR. RAMON CARRILLO (EX...</td>\n",
       "    </tr>\n",
       "    <tr>\n",
       "      <th>3</th>\n",
       "      <td>-58.385155911888</td>\n",
       "      <td>-34.6394041316484</td>\n",
       "      <td>BRANDSEN 2570</td>\n",
       "      <td>HOSPITAL DE SALUD MENTAL BRAULIO MOYANO</td>\n",
       "    </tr>\n",
       "    <tr>\n",
       "      <th>4</th>\n",
       "      <td>-58.391311440653</td>\n",
       "      <td>-34.6341535760002</td>\n",
       "      <td>CASEROS AV. 2061</td>\n",
       "      <td>HOSPITAL DE GASTROENTEROLOGIA B. UDAONDO</td>\n",
       "    </tr>\n",
       "  </tbody>\n",
       "</table>\n",
       "</div>"
      ],
      "text/plain": [
       "           latitude          longitude                          name  \\\n",
       "0  -58.377550848844  -34.6288473603881  MONTES DE OCA, MANUEL AV. 40   \n",
       "1  -58.412070076945  -34.5941919726393                    GALLO 1330   \n",
       "2  -58.402727654782  -34.5845283357505    SANCHEZ DE BUSTAMANTE 2529   \n",
       "3  -58.385155911888  -34.6394041316484                 BRANDSEN 2570   \n",
       "4  -58.391311440653  -34.6341535760002              CASEROS AV. 2061   \n",
       "\n",
       "                                               label  \n",
       "0        HOSPITAL GENERAL DE NIÑOS PEDRO DE ELIZALDE  \n",
       "1        HOSPITAL GENERAL DE NIÑOS RICARDO GUTIERREZ  \n",
       "2  HOSPITAL DE ODONTOLOGIA DR. RAMON CARRILLO (EX...  \n",
       "3            HOSPITAL DE SALUD MENTAL BRAULIO MOYANO  \n",
       "4           HOSPITAL DE GASTROENTEROLOGIA B. UDAONDO  "
      ]
     },
     "execution_count": 5,
     "metadata": {},
     "output_type": "execute_result"
    }
   ],
   "source": [
    "\n",
    "hospitales2.head()"
   ]
  },
  {
   "cell_type": "code",
   "execution_count": 146,
   "metadata": {},
   "outputs": [],
   "source": [
    "hospitales2.to_csv('coordenadas.csv',index=False)"
   ]
  }
 ],
 "metadata": {
  "kernelspec": {
   "display_name": "Python 3",
   "language": "python",
   "name": "python3"
  },
  "language_info": {
   "codemirror_mode": {
    "name": "ipython",
    "version": 3
   },
   "file_extension": ".py",
   "mimetype": "text/x-python",
   "name": "python",
   "nbconvert_exporter": "python",
   "pygments_lexer": "ipython3",
   "version": "3.11.5"
  },
  "orig_nbformat": 4
 },
 "nbformat": 4,
 "nbformat_minor": 2
}
