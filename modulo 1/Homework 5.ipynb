{
 "cells": [
  {
   "cell_type": "markdown",
   "metadata": {},
   "source": [
    "# Práctica Clase 5"
   ]
  },
  {
   "cell_type": "markdown",
   "metadata": {},
   "source": [
    "1) Implementar un juego, que consista en apilar números enteros del 1 al 20, de forma aleatoria, para lo cual debe usarse una estructura de Pila. \n",
    "Luego, el usuario debe elegir un número de veces en que se va a quitar elementos de la pila, los cuales, sumados entre sí, no deben superar el valor de 50.\n",
    "El usuario pierde si la suma supera ese valor. Si no lo supera, gana, pero su calificación será 10 menos el número elementos que falten quitar para todavía no superar 50.\n",
    "El programa debe informar si perdió, y si ganó, con qué calificación lo hizo.\n",
    "\n",
    "Consideraciones:<br>\n",
    "a. Se puede usar la función input() para obtener una entrada de teclado.<br>\n",
    "b. Se puede usar la el modulo random para obtener valores aleatorios."
   ]
  },
  {
   "cell_type": "code",
   "execution_count": 1,
   "metadata": {},
   "outputs": [],
   "source": [
    "import random\n",
    "class numero_50:\n",
    "    def __init__(self):\n",
    "        pass\n",
    "    def lista(self):\n",
    "        self.num_azar=[]\n",
    "        self.num_azar=list(a for a in range(1,21))\n",
    "        random.shuffle(self.num_azar)\n",
    "        print('la lista inicial es ',self.num_azar)\n",
    "    def res(self):\n",
    "        self.suma=0\n",
    "        self.lista_final=self.num_azar\n",
    "        self.numpop=self.cantidad\n",
    "        for a in range(0,self.numpop):\n",
    "            self.suma+=self.lista_final.pop()\n",
    "        print('la lista final es ',self.lista_final)\n",
    "    def calificacion(self):\n",
    "        self.calif=10\n",
    "        self.suma_res=self.suma\n",
    "        while self.suma_res<=50:\n",
    "            self.calif-=1\n",
    "            self.suma_res+=self.lista_final.pop()\n",
    "        if self.suma_res>50:\n",
    "            self.calif+=1\n",
    "        return self.calif\n",
    "    def juego(self):\n",
    "        self.lista()\n",
    "        print('ingrese la cantidad de numeros a quitar')\n",
    "        self.cantidad=int(input())\n",
    "        print('numeros a quitar', self.cantidad)\n",
    "        self.res()\n",
    "        if self.suma>50:\n",
    "            print('perdiste, tu reresutlado es de ', self.suma,'\\n',)     \n",
    "        else:\n",
    "            print('felciades, tu resultado es de ', self.suma, '\\n',\n",
    "                  'tu calificacion es de ', self.calificacion())"
   ]
  },
  {
   "cell_type": "markdown",
   "metadata": {},
   "source": [
    "2) Implementar un juego donde constas de 2 jarras, de capacidad 5 y 3 litros respectivamente, y debes colocar 4 litros en la jarra de 5L.\n",
    "Las opciones posibles son:\n",
    "* Llenar la jarra de 3 litros\n",
    "* Llenar la jarra de 5 litros\n",
    "* Vaciar la jarra de 3 litros\n",
    "* Vaciar la jarra de 5 litros\n",
    "* Verter el contenido de la jarra de 3 litros en la de 5 litros\n",
    "* Verter el contenido de la jarra de 5 litros en la de 3 litros"
   ]
  },
  {
   "cell_type": "code",
   "execution_count": 55,
   "metadata": {},
   "outputs": [],
   "source": [
    "class jarra:\n",
    "    def __init__(self):\n",
    "        j5=0\n",
    "    \n",
    "    def l3(self):\n",
    "        self.j3=3\n",
    "    def l5(self):\n",
    "        self.j5=5\n",
    "    def vac3(self):\n",
    "        self.j3=0\n",
    "    def vac5(self):\n",
    "        self.j5=0\n",
    "    def ver3(self):\n",
    "        while self.j5<5 and self.j3>0:\n",
    "            self.j3-=1\n",
    "            self.j5+=1\n",
    "    def ver5(self):\n",
    "        while self.j3<3 and self.j5>0:\n",
    "            self.j5-=1\n",
    "            self.j3+=1\n",
    "    \n",
    "    def juego(self):\n",
    "        self.j5=0\n",
    "        self.j3=0\n",
    "        print('selecciona una opcion hasta tener 4 lt en la jrra de 5L:','\\n',\n",
    "            'a)Llenar la jarra de 3 litros','\\n',\n",
    "            'b)Llenar la jarra de 5 litros','\\n',\n",
    "            'c)Vaciar la jarra de 3 litros','\\n',\n",
    "            'd)Vaciar la jarra de 5 litros','\\n',\n",
    "            'e)Verter el contenido de la jarra de 3 litros en la de 5 litros','\\n',\n",
    "            'f)Verter el contenido de la jarra de 5 litros en la de 3 litros')\n",
    "        while self.j5!=4:\n",
    "            self.accion=str(input(('selecciona una opcion hasta tener 4 lt en la jrra de 5L:','\\n',\n",
    "            'a)Llenar la jarra de 3 litros',\n",
    "            'b)Llenar la jarra de 5 litros',\n",
    "            'c)Vaciar la jarra de 3 litros',\n",
    "            'd)Vaciar la jarra de 5 litros',\n",
    "            'e)Verter el contenido de la jarra de 3 litros en la de 5 litros',\n",
    "            'f)Verter el contenido de la jarra de 5 litros en la de 3 litros',\n",
    "            'escribe \"salir\" para terminar el juego')))\n",
    "            if self.accion=='a':\n",
    "                self.l3()\n",
    "                print(f'la jarra de 5L tiene {self.j5} litros y la jarra de 3L tiene {self.j3} litros')\n",
    "            if self.accion=='b':\n",
    "                self.l5()\n",
    "                print(f'la jarra de 5L tiene {self.j5} litros y la jarra de 3L tiene {self.j3} litros')\n",
    "            if self.accion=='c':\n",
    "                self.vac3()\n",
    "                print(f'la jarra de 5L tiene {self.j5} litros y la jarra de 3L tiene {self.j3} litros')\n",
    "            if self.accion=='d':\n",
    "                self.vac5()\n",
    "                print(f'la jarra de 5L tiene {self.j5} litros y la jarra de 3L tiene {self.j3} litros')\n",
    "            if self.accion=='e':\n",
    "                self.ver3()\n",
    "                print(f'la jarra de 5L tiene {self.j5} litros y la jarra de 3L tiene {self.j3} litros')\n",
    "            if self.accion=='f':\n",
    "                self.ver5()\n",
    "                print(f'la jarra de 5L tiene {self.j5} litros y la jarra de 3L tiene {self.j3} litros')\n",
    "            if self.accion=='salir':\n",
    "                break\n",
    "            \n",
    "        if self.j5==4:\n",
    "            print('¡felicidades! la jarra de 5L tiene 4l')"
   ]
  },
  {
   "cell_type": "code",
   "execution_count": 54,
   "metadata": {},
   "outputs": [
    {
     "name": "stdout",
     "output_type": "stream",
     "text": [
      "selecciona una opcion hasta tener 4 lt en la jrra de 5L: \n",
      " a)Llenar la jarra de 3 litros \n",
      " b)Llenar la jarra de 5 litros \n",
      " c)Vaciar la jarra de 3 litros \n",
      " d)Vaciar la jarra de 5 litros \n",
      " e)Verter el contenido de la jarra de 3 litros en la de 5 litros \n",
      " f)Verter el contenido de la jarra de 5 litros en la de 3 litros\n",
      "la jarra de 5L tiene 0 litros y la jarra de 3L tiene 3 litros\n",
      "la jarra de 5L tiene 3 litros y la jarra de 3L tiene 0 litros\n",
      "la jarra de 5L tiene 3 litros y la jarra de 3L tiene 3 litros\n",
      "la jarra de 5L tiene 3 litros y la jarra de 3L tiene 0 litros\n",
      "la jarra de 5L tiene 3 litros y la jarra de 3L tiene 3 litros\n",
      "la jarra de 5L tiene 5 litros y la jarra de 3L tiene 1 litros\n",
      "la jarra de 5L tiene 5 litros y la jarra de 3L tiene 1 litros\n",
      "la jarra de 5L tiene 0 litros y la jarra de 3L tiene 1 litros\n",
      "la jarra de 5L tiene 1 litros y la jarra de 3L tiene 0 litros\n",
      "la jarra de 5L tiene 1 litros y la jarra de 3L tiene 3 litros\n",
      "la jarra de 5L tiene 4 litros y la jarra de 3L tiene 0 litros\n",
      "la jarra 5 tiene 4 l\n"
     ]
    }
   ],
   "source": [
    "b=jarra()\n",
    "b.juego()"
   ]
  },
  {
   "cell_type": "markdown",
   "metadata": {},
   "source": []
  }
 ],
 "metadata": {
  "kernelspec": {
   "display_name": "Python 3",
   "language": "python",
   "name": "python3"
  },
  "language_info": {
   "codemirror_mode": {
    "name": "ipython",
    "version": 3
   },
   "file_extension": ".py",
   "mimetype": "text/x-python",
   "name": "python",
   "nbconvert_exporter": "python",
   "pygments_lexer": "ipython3",
   "version": "3.11.5"
  }
 },
 "nbformat": 4,
 "nbformat_minor": 4
}
