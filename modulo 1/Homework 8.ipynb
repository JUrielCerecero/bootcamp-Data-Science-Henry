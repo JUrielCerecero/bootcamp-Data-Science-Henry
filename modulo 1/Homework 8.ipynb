{
 "cells": [
  {
   "cell_type": "markdown",
   "metadata": {},
   "source": [
    "# Práctica Clase 8"
   ]
  },
  {
   "cell_type": "markdown",
   "metadata": {},
   "source": [
    "<h2>Algoritmos de Ordenamiento</h2>"
   ]
  },
  {
   "cell_type": "markdown",
   "metadata": {},
   "source": [
    "1) Dada la función provista 'ListaDesordenada' implementar los algoritmos de ordenamiento vistos en clase:\n",
    "<ul>\n",
    "    <ol>Selección</ol>\n",
    "    <ol>Burbuja</ol>\n",
    "</ul>"
   ]
  },
  {
   "cell_type": "code",
   "execution_count": 1,
   "metadata": {},
   "outputs": [],
   "source": [
    "def ListaDesordenada(desorden, cantidad): \n",
    "    '''\n",
    "    Esta función devuelve una lista\n",
    "    desorden = es un porcentaje de desordenamiento\n",
    "    cantidad = cantidad de elementos de la lista\n",
    "    '''\n",
    "    import random as r\n",
    "    import numpy as np\n",
    "\n",
    "    lista = list(range(0, cantidad))\n",
    "\n",
    "    desorden = int(cantidad * desorden / 100)\n",
    "\n",
    "    while (desorden > 0):\n",
    "        i = r.randint(0,cantidad-1)\n",
    "        j = r.randint(0,cantidad-1)\n",
    "        aux = lista[i]\n",
    "        lista[i] = lista[j]\n",
    "        lista[j] = aux\n",
    "        desorden-=1\n",
    "\n",
    "    return lista"
   ]
  },
  {
   "cell_type": "code",
   "execution_count": 4,
   "metadata": {},
   "outputs": [
    {
     "name": "stdout",
     "output_type": "stream",
     "text": [
      "[1, 17, 7, 3, 12, 5, 0, 19, 8, 15, 14, 6, 18, 10, 13, 2, 9, 16, 4, 11]\n"
     ]
    }
   ],
   "source": [
    "ListaDesordenada(90, 20) #Lista de 20 elementos un 90% desordenada\n"
   ]
  },
  {
   "cell_type": "code",
   "execution_count": null,
   "metadata": {},
   "outputs": [],
   "source": [
    "ListaDesordenada(50, 20) #Lista de 20 elementos un 50% desordenada"
   ]
  },
  {
   "cell_type": "code",
   "execution_count": null,
   "metadata": {},
   "outputs": [],
   "source": [
    "ListaDesordenada(50, 5) #Lista de 20 elementos un 0% desordenada"
   ]
  },
  {
   "cell_type": "code",
   "execution_count": 15,
   "metadata": {},
   "outputs": [],
   "source": [
    "def ord_por_seleccion(lista):\n",
    "    #completar el código\n",
    "    c=1 #contador\n",
    "    n=0 #posicion del valor de la lista\n",
    "    numt=0 #variable que contiene el numero que se esta sustituyendo    \n",
    "    while c<len(lista):\n",
    "        n=c-1\n",
    "        while lista[n+1]<lista[n]:\n",
    "            numt=lista[n]\n",
    "            lista[n]=lista[n+1]\n",
    "            lista[n+1]=numt\n",
    "            n-=1\n",
    "            if n<0:\n",
    "                break\n",
    "        c+=1\n",
    "    return lista"
   ]
  },
  {
   "cell_type": "code",
   "execution_count": 8,
   "metadata": {},
   "outputs": [],
   "source": []
  },
  {
   "cell_type": "code",
   "execution_count": 11,
   "metadata": {},
   "outputs": [
    {
     "name": "stdout",
     "output_type": "stream",
     "text": [
      "[8, 10, 14, 6, 2, 7, 4, 5, 9, 15, 13, 16, 19, 3, 1, 18, 11, 17, 0, 12]\n"
     ]
    }
   ],
   "source": [
    "print(lis)"
   ]
  },
  {
   "cell_type": "code",
   "execution_count": 17,
   "metadata": {},
   "outputs": [
    {
     "name": "stdout",
     "output_type": "stream",
     "text": [
      "[0, 2, 5, 16, 6, 9, 17, 10, 18, 14, 19, 11, 12, 13, 8, 4, 3, 1, 15, 7]\n"
     ]
    }
   ],
   "source": [
    "lis = ListaDesordenada(100, 20)\n",
    "print(lis)"
   ]
  },
  {
   "cell_type": "code",
   "execution_count": 18,
   "metadata": {},
   "outputs": [
    {
     "data": {
      "text/plain": [
       "[0, 1, 2, 3, 4, 5, 6, 7, 8, 9, 10, 11, 12, 13, 14, 15, 16, 17, 18, 19]"
      ]
     },
     "execution_count": 18,
     "metadata": {},
     "output_type": "execute_result"
    }
   ],
   "source": [
    "ord_por_seleccion(lis)"
   ]
  },
  {
   "cell_type": "code",
   "execution_count": 102,
   "metadata": {},
   "outputs": [],
   "source": [
    "def ord_por_burbujeo(lista):\n",
    "    switch=True\n",
    "    ntemp=0\n",
    "    mod=True\n",
    "    while mod:\n",
    "        mod=False\n",
    "        for a in range(-len(lista)+1,0):\n",
    "            if lista[a]<lista[a-1]:\n",
    "                ntemp=lista[a-1]\n",
    "                lista[a-1]=lista[a]\n",
    "                lista[a]=ntemp\n",
    "                mod=True\n",
    "                \n",
    "           \n",
    "            \n",
    "    return lista"
   ]
  },
  {
   "cell_type": "code",
   "execution_count": null,
   "metadata": {},
   "outputs": [],
   "source": [
    "while mod!=0:\n",
    "        for a in range(-len(lista)+1,0):\n",
    "            if lista[a]<lista[a-1]:\n",
    "                ntemp=lista[a-1]\n",
    "                lista[a-1]=lista[a]\n",
    "                lista[a]=ntemp\n",
    "                mod+=1\n",
    "            "
   ]
  },
  {
   "cell_type": "code",
   "execution_count": 106,
   "metadata": {},
   "outputs": [
    {
     "name": "stdout",
     "output_type": "stream",
     "text": [
      "[11, 16, 10, 12, 1, 5, 6, 13, 8, 17, 7, 19, 2, 0, 14, 15, 9, 4, 18, 3]\n"
     ]
    }
   ],
   "source": [
    "lis = ListaDesordenada(100, 20)\n",
    "print(lis)"
   ]
  },
  {
   "cell_type": "code",
   "execution_count": 107,
   "metadata": {},
   "outputs": [
    {
     "data": {
      "text/plain": [
       "[0, 1, 2, 3, 4, 5, 6, 7, 8, 9, 10, 11, 12, 13, 14, 15, 16, 17, 18, 19]"
      ]
     },
     "execution_count": 107,
     "metadata": {},
     "output_type": "execute_result"
    }
   ],
   "source": [
    "ord_por_burbujeo(lis)"
   ]
  },
  {
   "cell_type": "markdown",
   "metadata": {},
   "source": [
    "2) Para las siguientes instancias, probar el tiempo de duración del ordenamiento de cada uno de los métodos"
   ]
  },
  {
   "cell_type": "code",
   "execution_count": 108,
   "metadata": {},
   "outputs": [],
   "source": [
    "import time"
   ]
  },
  {
   "cell_type": "code",
   "execution_count": 110,
   "metadata": {},
   "outputs": [
    {
     "name": "stdout",
     "output_type": "stream",
     "text": [
      "Llevo 0.0 segundos en total.\n"
     ]
    }
   ],
   "source": [
    "start_time_total = time.time()\n",
    "total_time_total = time.time() - start_time_total\n",
    "print(\"Llevo {} segundos en total.\".format(total_time_total))"
   ]
  },
  {
   "cell_type": "code",
   "execution_count": 109,
   "metadata": {},
   "outputs": [],
   "source": [
    "N = 5000"
   ]
  },
  {
   "cell_type": "code",
   "execution_count": 119,
   "metadata": {},
   "outputs": [],
   "source": [
    "lis1 = ListaDesordenada(100, N)\n",
    "lis2 = lis1.copy()\n",
    "lis3 = lis1.copy()"
   ]
  },
  {
   "cell_type": "code",
   "execution_count": 112,
   "metadata": {},
   "outputs": [
    {
     "data": {
      "text/plain": [
       "2480127874944"
      ]
     },
     "execution_count": 112,
     "metadata": {},
     "output_type": "execute_result"
    }
   ],
   "source": [
    "id(lis1)"
   ]
  },
  {
   "cell_type": "code",
   "execution_count": 113,
   "metadata": {},
   "outputs": [
    {
     "data": {
      "text/plain": [
       "2480129351168"
      ]
     },
     "execution_count": 113,
     "metadata": {},
     "output_type": "execute_result"
    }
   ],
   "source": [
    "id(lis2)"
   ]
  },
  {
   "cell_type": "code",
   "execution_count": 114,
   "metadata": {},
   "outputs": [
    {
     "data": {
      "text/plain": [
       "2480128742976"
      ]
     },
     "execution_count": 114,
     "metadata": {},
     "output_type": "execute_result"
    }
   ],
   "source": [
    "id(lis3)"
   ]
  },
  {
   "cell_type": "code",
   "execution_count": 120,
   "metadata": {},
   "outputs": [
    {
     "name": "stdout",
     "output_type": "stream",
     "text": [
      "Llevo 27.99707007408142 segundos en total.\n"
     ]
    }
   ],
   "source": [
    "start_time_total = time.time()\n",
    "lis1 = ord_por_burbujeo(lis1)\n",
    "total_time_total = time.time() - start_time_total\n",
    "print(\"Llevo {} segundos en total.\".format(total_time_total))"
   ]
  },
  {
   "cell_type": "code",
   "execution_count": 121,
   "metadata": {},
   "outputs": [
    {
     "name": "stdout",
     "output_type": "stream",
     "text": [
      "Llevo 15.630547285079956 segundos en total.\n"
     ]
    }
   ],
   "source": [
    "start_time_total = time.time()\n",
    "lis2 = ord_por_seleccion(lis2)\n",
    "total_time_total = time.time() - start_time_total\n",
    "print(\"Llevo {} segundos en total.\".format(total_time_total))"
   ]
  },
  {
   "cell_type": "code",
   "execution_count": 124,
   "metadata": {},
   "outputs": [
    {
     "name": "stdout",
     "output_type": "stream",
     "text": [
      "Llevo 15.516618013381958 segundos en total.\n"
     ]
    }
   ],
   "source": [
    "start_time_total = time.time()\n",
    "lis2 = ord_por_seleccion(lis3)\n",
    "total_time_total = time.time() - start_time_total\n",
    "print(\"Llevo {} segundos en total.\".format(total_time_total))"
   ]
  },
  {
   "cell_type": "code",
   "execution_count": 125,
   "metadata": {},
   "outputs": [],
   "source": [
    "lis1 = ListaDesordenada(50, N)\n",
    "lis2 = lis1.copy()\n",
    "lis3 = lis1.copy()"
   ]
  },
  {
   "cell_type": "code",
   "execution_count": 126,
   "metadata": {},
   "outputs": [
    {
     "name": "stdout",
     "output_type": "stream",
     "text": [
      "Llevo 35.14974665641785 segundos en total.\n"
     ]
    }
   ],
   "source": [
    "start_time_total = time.time()\n",
    "lis1 = ord_por_burbujeo(lis1)\n",
    "total_time_total = time.time() - start_time_total\n",
    "print(\"Llevo {} segundos en total.\".format(total_time_total))"
   ]
  },
  {
   "cell_type": "code",
   "execution_count": 127,
   "metadata": {},
   "outputs": [
    {
     "name": "stdout",
     "output_type": "stream",
     "text": [
      "Llevo 27.437408685684204 segundos en total.\n"
     ]
    }
   ],
   "source": [
    "start_time_total = time.time()\n",
    "lis2 = ord_por_seleccion(lis2)\n",
    "total_time_total = time.time() - start_time_total\n",
    "print(\"Llevo {} segundos en total.\".format(total_time_total))"
   ]
  },
  {
   "cell_type": "code",
   "execution_count": 128,
   "metadata": {},
   "outputs": [
    {
     "name": "stdout",
     "output_type": "stream",
     "text": [
      "Llevo 13.773670673370361 segundos en total.\n"
     ]
    }
   ],
   "source": [
    "start_time_total = time.time()\n",
    "lis3 = ord_por_seleccion(lis3)\n",
    "total_time_total = time.time() - start_time_total\n",
    "print(\"Llevo {} segundos en total.\".format(total_time_total))"
   ]
  },
  {
   "cell_type": "code",
   "execution_count": 129,
   "metadata": {},
   "outputs": [],
   "source": [
    "lis1 = ord_por_burbujeo(lis1)"
   ]
  },
  {
   "cell_type": "code",
   "execution_count": 130,
   "metadata": {},
   "outputs": [],
   "source": [
    "lis1.sort()"
   ]
  },
  {
   "cell_type": "code",
   "execution_count": 131,
   "metadata": {},
   "outputs": [
    {
     "data": {
      "text/plain": [
       "[0, 1, 2, 3, 4, 5, 6, 7, 8, 9, 10, 11]"
      ]
     },
     "execution_count": 131,
     "metadata": {},
     "output_type": "execute_result"
    }
   ],
   "source": [
    "lis1[0:12]"
   ]
  },
  {
   "cell_type": "code",
   "execution_count": 132,
   "metadata": {},
   "outputs": [],
   "source": [
    "lis1 = ListaDesordenada(0, N)\n",
    "lis2 = lis1.copy()\n",
    "lis3 = lis1.copy()"
   ]
  },
  {
   "cell_type": "code",
   "execution_count": 133,
   "metadata": {},
   "outputs": [
    {
     "name": "stdout",
     "output_type": "stream",
     "text": [
      "Llevo 0.0019974708557128906 segundos en total.\n"
     ]
    }
   ],
   "source": [
    "start_time_total = time.time()\n",
    "lis1 = ord_por_burbujeo(lis1)\n",
    "total_time_total = time.time() - start_time_total\n",
    "print(\"Llevo {} segundos en total.\".format(total_time_total))"
   ]
  },
  {
   "cell_type": "code",
   "execution_count": 134,
   "metadata": {},
   "outputs": [
    {
     "name": "stdout",
     "output_type": "stream",
     "text": [
      "Llevo 0.005995035171508789 segundos en total.\n"
     ]
    }
   ],
   "source": [
    "start_time_total = time.time()\n",
    "lis2 = ord_por_seleccion(lis2)\n",
    "total_time_total = time.time() - start_time_total\n",
    "print(\"Llevo {} segundos en total.\".format(total_time_total))"
   ]
  },
  {
   "cell_type": "code",
   "execution_count": 135,
   "metadata": {},
   "outputs": [
    {
     "name": "stdout",
     "output_type": "stream",
     "text": [
      "Llevo 0.002994060516357422 segundos en total.\n"
     ]
    }
   ],
   "source": [
    "start_time_total = time.time()\n",
    "lis2 = ord_por_seleccion(lis3)\n",
    "total_time_total = time.time() - start_time_total\n",
    "print(\"Llevo {} segundos en total.\".format(total_time_total))"
   ]
  },
  {
   "cell_type": "code",
   "execution_count": null,
   "metadata": {},
   "outputs": [],
   "source": []
  }
 ],
 "metadata": {
  "interpreter": {
   "hash": "11938c6bc6919ae2720b4d5011047913343b08a43b18698fd82dedb0d4417594"
  },
  "kernelspec": {
   "display_name": "Python 3.9.7 64-bit",
   "language": "python",
   "name": "python3"
  },
  "language_info": {
   "codemirror_mode": {
    "name": "ipython",
    "version": 3
   },
   "file_extension": ".py",
   "mimetype": "text/x-python",
   "name": "python",
   "nbconvert_exporter": "python",
   "pygments_lexer": "ipython3",
   "version": "3.11.5"
  }
 },
 "nbformat": 4,
 "nbformat_minor": 4
}
