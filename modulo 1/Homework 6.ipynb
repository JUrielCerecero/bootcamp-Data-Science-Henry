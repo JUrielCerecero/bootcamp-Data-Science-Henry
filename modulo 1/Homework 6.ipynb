{
 "cells": [
  {
   "cell_type": "markdown",
   "metadata": {},
   "source": [
    "# Práctica Clase 6"
   ]
  },
  {
   "cell_type": "markdown",
   "metadata": {},
   "source": [
    "1) Cargar el dataset \"Emisiones_CO2.csv\" provisto en la clase 2 en un Dataframe de Pandas, quitar los registros que contengan valores faltantes e implementar una nueva columna, que contenga el resultado de una función Hash aplicada sobre el campo \"Código de País\" y se denomine \"Clave_Hash\".<br>\n",
    "Consideraciones: Se puede utilizar la función provista.\n"
   ]
  },
  {
   "cell_type": "code",
   "execution_count": 53,
   "metadata": {},
   "outputs": [],
   "source": [
    "def hash_function(key):\n",
    "    return sum(index * ord(character) for index, character in enumerate(repr(key), start=1))"
   ]
  },
  {
   "cell_type": "code",
   "execution_count": 2,
   "metadata": {},
   "outputs": [
    {
     "name": "stdout",
     "output_type": "stream",
     "text": [
      "1807\n",
      "1799\n"
     ]
    }
   ],
   "source": [
    "print(hash_function('pato'))\n",
    "print(hash_function('tapo'))"
   ]
  },
  {
   "cell_type": "code",
   "execution_count": 3,
   "metadata": {},
   "outputs": [],
   "source": [
    "import pandas as pd"
   ]
  },
  {
   "cell_type": "code",
   "execution_count": 69,
   "metadata": {},
   "outputs": [
    {
     "data": {
      "text/html": [
       "<div>\n",
       "<style scoped>\n",
       "    .dataframe tbody tr th:only-of-type {\n",
       "        vertical-align: middle;\n",
       "    }\n",
       "\n",
       "    .dataframe tbody tr th {\n",
       "        vertical-align: top;\n",
       "    }\n",
       "\n",
       "    .dataframe thead th {\n",
       "        text-align: right;\n",
       "    }\n",
       "</style>\n",
       "<table border=\"1\" class=\"dataframe\">\n",
       "  <thead>\n",
       "    <tr style=\"text-align: right;\">\n",
       "      <th></th>\n",
       "      <th>Código de país</th>\n",
       "      <th>Nombre del país</th>\n",
       "      <th>Región</th>\n",
       "      <th>Año</th>\n",
       "      <th>CO2 (kt)</th>\n",
       "      <th>CO2 per cápita (toneladas métricas)</th>\n",
       "    </tr>\n",
       "  </thead>\n",
       "  <tbody>\n",
       "    <tr>\n",
       "      <th>0</th>\n",
       "      <td>ABW</td>\n",
       "      <td>Aruba</td>\n",
       "      <td>América Latina y Caribe</td>\n",
       "      <td>1960</td>\n",
       "      <td>NaN</td>\n",
       "      <td>NaN</td>\n",
       "    </tr>\n",
       "    <tr>\n",
       "      <th>1</th>\n",
       "      <td>ABW</td>\n",
       "      <td>Aruba</td>\n",
       "      <td>América Latina y Caribe</td>\n",
       "      <td>1961</td>\n",
       "      <td>NaN</td>\n",
       "      <td>NaN</td>\n",
       "    </tr>\n",
       "    <tr>\n",
       "      <th>2</th>\n",
       "      <td>ABW</td>\n",
       "      <td>Aruba</td>\n",
       "      <td>América Latina y Caribe</td>\n",
       "      <td>1962</td>\n",
       "      <td>NaN</td>\n",
       "      <td>NaN</td>\n",
       "    </tr>\n",
       "    <tr>\n",
       "      <th>3</th>\n",
       "      <td>ABW</td>\n",
       "      <td>Aruba</td>\n",
       "      <td>América Latina y Caribe</td>\n",
       "      <td>1963</td>\n",
       "      <td>NaN</td>\n",
       "      <td>NaN</td>\n",
       "    </tr>\n",
       "    <tr>\n",
       "      <th>4</th>\n",
       "      <td>ABW</td>\n",
       "      <td>Aruba</td>\n",
       "      <td>América Latina y Caribe</td>\n",
       "      <td>1964</td>\n",
       "      <td>NaN</td>\n",
       "      <td>NaN</td>\n",
       "    </tr>\n",
       "  </tbody>\n",
       "</table>\n",
       "</div>"
      ],
      "text/plain": [
       "  Código de país Nombre del país                   Región   Año  CO2 (kt)  \\\n",
       "0            ABW           Aruba  América Latina y Caribe  1960       NaN   \n",
       "1            ABW           Aruba  América Latina y Caribe  1961       NaN   \n",
       "2            ABW           Aruba  América Latina y Caribe  1962       NaN   \n",
       "3            ABW           Aruba  América Latina y Caribe  1963       NaN   \n",
       "4            ABW           Aruba  América Latina y Caribe  1964       NaN   \n",
       "\n",
       "   CO2 per cápita (toneladas métricas)  \n",
       "0                                  NaN  \n",
       "1                                  NaN  \n",
       "2                                  NaN  \n",
       "3                                  NaN  \n",
       "4                                  NaN  "
      ]
     },
     "execution_count": 69,
     "metadata": {},
     "output_type": "execute_result"
    }
   ],
   "source": [
    "df = pd.read_csv('Emisiones_CO2.csv',sep='|',decimal=',',thousands='.',encoding='latin-1')\n",
    "df.head()"
   ]
  },
  {
   "cell_type": "code",
   "execution_count": 70,
   "metadata": {},
   "outputs": [],
   "source": [
    "df.dropna(inplace=True)\n",
    "\n",
    "df['Clave_Hash']=df['Código de país']\n"
   ]
  },
  {
   "cell_type": "code",
   "execution_count": 71,
   "metadata": {},
   "outputs": [],
   "source": [
    "df['Clave_Hash']=df['Código de país'].apply(hash_function)"
   ]
  },
  {
   "cell_type": "code",
   "execution_count": 72,
   "metadata": {},
   "outputs": [
    {
     "data": {
      "text/plain": [
       "26       910\n",
       "27       910\n",
       "28       910\n",
       "29       910\n",
       "30       910\n",
       "        ... \n",
       "11122    951\n",
       "11123    951\n",
       "11124    951\n",
       "11125    951\n",
       "11126    951\n",
       "Name: Clave_Hash, Length: 9029, dtype: int64"
      ]
     },
     "execution_count": 72,
     "metadata": {},
     "output_type": "execute_result"
    }
   ],
   "source": [
    "df['Clave_Hash']"
   ]
  },
  {
   "cell_type": "code",
   "execution_count": 116,
   "metadata": {},
   "outputs": [],
   "source": [
    "df.reset_index(drop=True, inplace=True)"
   ]
  },
  {
   "cell_type": "code",
   "execution_count": 117,
   "metadata": {},
   "outputs": [
    {
     "data": {
      "text/html": [
       "<div>\n",
       "<style scoped>\n",
       "    .dataframe tbody tr th:only-of-type {\n",
       "        vertical-align: middle;\n",
       "    }\n",
       "\n",
       "    .dataframe tbody tr th {\n",
       "        vertical-align: top;\n",
       "    }\n",
       "\n",
       "    .dataframe thead th {\n",
       "        text-align: right;\n",
       "    }\n",
       "</style>\n",
       "<table border=\"1\" class=\"dataframe\">\n",
       "  <thead>\n",
       "    <tr style=\"text-align: right;\">\n",
       "      <th></th>\n",
       "      <th>Código de país</th>\n",
       "      <th>Nombre del país</th>\n",
       "      <th>Región</th>\n",
       "      <th>Año</th>\n",
       "      <th>CO2 (kt)</th>\n",
       "      <th>CO2 per cápita (toneladas métricas)</th>\n",
       "      <th>Clave_Hash</th>\n",
       "    </tr>\n",
       "  </thead>\n",
       "  <tbody>\n",
       "    <tr>\n",
       "      <th>0</th>\n",
       "      <td>ABW</td>\n",
       "      <td>Aruba</td>\n",
       "      <td>América Latina y Caribe</td>\n",
       "      <td>1986</td>\n",
       "      <td>179.683</td>\n",
       "      <td>2.868319</td>\n",
       "      <td>910</td>\n",
       "    </tr>\n",
       "    <tr>\n",
       "      <th>1</th>\n",
       "      <td>ABW</td>\n",
       "      <td>Aruba</td>\n",
       "      <td>América Latina y Caribe</td>\n",
       "      <td>1987</td>\n",
       "      <td>447.374</td>\n",
       "      <td>7.234964</td>\n",
       "      <td>910</td>\n",
       "    </tr>\n",
       "    <tr>\n",
       "      <th>2</th>\n",
       "      <td>ABW</td>\n",
       "      <td>Aruba</td>\n",
       "      <td>América Latina y Caribe</td>\n",
       "      <td>1988</td>\n",
       "      <td>612.389</td>\n",
       "      <td>10.026508</td>\n",
       "      <td>910</td>\n",
       "    </tr>\n",
       "    <tr>\n",
       "      <th>3</th>\n",
       "      <td>ABW</td>\n",
       "      <td>Aruba</td>\n",
       "      <td>América Latina y Caribe</td>\n",
       "      <td>1989</td>\n",
       "      <td>649.059</td>\n",
       "      <td>10.634733</td>\n",
       "      <td>910</td>\n",
       "    </tr>\n",
       "    <tr>\n",
       "      <th>4</th>\n",
       "      <td>ABW</td>\n",
       "      <td>Aruba</td>\n",
       "      <td>América Latina y Caribe</td>\n",
       "      <td>1990</td>\n",
       "      <td>1840.830</td>\n",
       "      <td>29.620165</td>\n",
       "      <td>910</td>\n",
       "    </tr>\n",
       "    <tr>\n",
       "      <th>...</th>\n",
       "      <td>...</td>\n",
       "      <td>...</td>\n",
       "      <td>...</td>\n",
       "      <td>...</td>\n",
       "      <td>...</td>\n",
       "      <td>...</td>\n",
       "      <td>...</td>\n",
       "    </tr>\n",
       "    <tr>\n",
       "      <th>9024</th>\n",
       "      <td>ZWE</td>\n",
       "      <td>Zimbabue</td>\n",
       "      <td>África subsahariana</td>\n",
       "      <td>2007</td>\n",
       "      <td>9732.220</td>\n",
       "      <td>0.731867</td>\n",
       "      <td>951</td>\n",
       "    </tr>\n",
       "    <tr>\n",
       "      <th>9025</th>\n",
       "      <td>ZWE</td>\n",
       "      <td>Zimbabue</td>\n",
       "      <td>África subsahariana</td>\n",
       "      <td>2008</td>\n",
       "      <td>7682.370</td>\n",
       "      <td>0.569255</td>\n",
       "      <td>951</td>\n",
       "    </tr>\n",
       "    <tr>\n",
       "      <th>9026</th>\n",
       "      <td>ZWE</td>\n",
       "      <td>Zimbabue</td>\n",
       "      <td>África subsahariana</td>\n",
       "      <td>2009</td>\n",
       "      <td>8239.750</td>\n",
       "      <td>0.600521</td>\n",
       "      <td>951</td>\n",
       "    </tr>\n",
       "    <tr>\n",
       "      <th>9027</th>\n",
       "      <td>ZWE</td>\n",
       "      <td>Zimbabue</td>\n",
       "      <td>África subsahariana</td>\n",
       "      <td>2010</td>\n",
       "      <td>9028.150</td>\n",
       "      <td>0.646073</td>\n",
       "      <td>951</td>\n",
       "    </tr>\n",
       "    <tr>\n",
       "      <th>9028</th>\n",
       "      <td>ZWE</td>\n",
       "      <td>Zimbabue</td>\n",
       "      <td>África subsahariana</td>\n",
       "      <td>2011</td>\n",
       "      <td>9860.560</td>\n",
       "      <td>0.691698</td>\n",
       "      <td>951</td>\n",
       "    </tr>\n",
       "  </tbody>\n",
       "</table>\n",
       "<p>9029 rows × 7 columns</p>\n",
       "</div>"
      ],
      "text/plain": [
       "     Código de país Nombre del país                   Región   Año  CO2 (kt)  \\\n",
       "0               ABW           Aruba  América Latina y Caribe  1986   179.683   \n",
       "1               ABW           Aruba  América Latina y Caribe  1987   447.374   \n",
       "2               ABW           Aruba  América Latina y Caribe  1988   612.389   \n",
       "3               ABW           Aruba  América Latina y Caribe  1989   649.059   \n",
       "4               ABW           Aruba  América Latina y Caribe  1990  1840.830   \n",
       "...             ...             ...                      ...   ...       ...   \n",
       "9024            ZWE        Zimbabue      África subsahariana  2007  9732.220   \n",
       "9025            ZWE        Zimbabue      África subsahariana  2008  7682.370   \n",
       "9026            ZWE        Zimbabue      África subsahariana  2009  8239.750   \n",
       "9027            ZWE        Zimbabue      África subsahariana  2010  9028.150   \n",
       "9028            ZWE        Zimbabue      África subsahariana  2011  9860.560   \n",
       "\n",
       "      CO2 per cápita (toneladas métricas)  Clave_Hash  \n",
       "0                                2.868319         910  \n",
       "1                                7.234964         910  \n",
       "2                               10.026508         910  \n",
       "3                               10.634733         910  \n",
       "4                               29.620165         910  \n",
       "...                                   ...         ...  \n",
       "9024                             0.731867         951  \n",
       "9025                             0.569255         951  \n",
       "9026                             0.600521         951  \n",
       "9027                             0.646073         951  \n",
       "9028                             0.691698         951  \n",
       "\n",
       "[9029 rows x 7 columns]"
      ]
     },
     "execution_count": 117,
     "metadata": {},
     "output_type": "execute_result"
    }
   ],
   "source": [
    "df"
   ]
  },
  {
   "cell_type": "markdown",
   "metadata": {},
   "source": [
    "2. A partir del Dataframe creado en el punto 1, construir uno nuevo, que contenga solo los valores distintos de la tupla \"Clave_Hash\", \"Código de País\" , \"Nombre de país\" y \"Región\". Quitando luego del dataframe original los campos \"Código de País\" , \"Nombre de país\" y \"Región\""
   ]
  },
  {
   "cell_type": "code",
   "execution_count": 96,
   "metadata": {},
   "outputs": [],
   "source": [
    "df2=df.copy()"
   ]
  },
  {
   "cell_type": "code",
   "execution_count": 123,
   "metadata": {},
   "outputs": [],
   "source": [
    "df2.drop_duplicates(subset=tu, inplace=True)"
   ]
  },
  {
   "cell_type": "code",
   "execution_count": 124,
   "metadata": {},
   "outputs": [
    {
     "data": {
      "text/html": [
       "<div>\n",
       "<style scoped>\n",
       "    .dataframe tbody tr th:only-of-type {\n",
       "        vertical-align: middle;\n",
       "    }\n",
       "\n",
       "    .dataframe tbody tr th {\n",
       "        vertical-align: top;\n",
       "    }\n",
       "\n",
       "    .dataframe thead th {\n",
       "        text-align: right;\n",
       "    }\n",
       "</style>\n",
       "<table border=\"1\" class=\"dataframe\">\n",
       "  <thead>\n",
       "    <tr style=\"text-align: right;\">\n",
       "      <th></th>\n",
       "      <th>Código de país</th>\n",
       "      <th>Nombre del país</th>\n",
       "      <th>Región</th>\n",
       "      <th>Año</th>\n",
       "      <th>CO2 (kt)</th>\n",
       "      <th>CO2 per cápita (toneladas métricas)</th>\n",
       "      <th>Clave_Hash</th>\n",
       "    </tr>\n",
       "  </thead>\n",
       "  <tbody>\n",
       "    <tr>\n",
       "      <th>26</th>\n",
       "      <td>ABW</td>\n",
       "      <td>Aruba</td>\n",
       "      <td>América Latina y Caribe</td>\n",
       "      <td>1986</td>\n",
       "      <td>179.683</td>\n",
       "      <td>2.868319</td>\n",
       "      <td>910</td>\n",
       "    </tr>\n",
       "    <tr>\n",
       "      <th>87</th>\n",
       "      <td>AND</td>\n",
       "      <td>Andorra</td>\n",
       "      <td>Europa y Asia Central</td>\n",
       "      <td>1995</td>\n",
       "      <td>407.037</td>\n",
       "      <td>6.374495</td>\n",
       "      <td>870</td>\n",
       "    </tr>\n",
       "    <tr>\n",
       "      <th>104</th>\n",
       "      <td>AFG</td>\n",
       "      <td>Afganistán</td>\n",
       "      <td>Sur de Asia</td>\n",
       "      <td>1960</td>\n",
       "      <td>414.371</td>\n",
       "      <td>0.046068</td>\n",
       "      <td>858</td>\n",
       "    </tr>\n",
       "    <tr>\n",
       "      <th>156</th>\n",
       "      <td>AGO</td>\n",
       "      <td>Angola</td>\n",
       "      <td>África subsahariana</td>\n",
       "      <td>1960</td>\n",
       "      <td>550.050</td>\n",
       "      <td>0.104357</td>\n",
       "      <td>893</td>\n",
       "    </tr>\n",
       "    <tr>\n",
       "      <th>208</th>\n",
       "      <td>ALB</td>\n",
       "      <td>Albania</td>\n",
       "      <td>Europa y Asia Central</td>\n",
       "      <td>1960</td>\n",
       "      <td>2024.180</td>\n",
       "      <td>1.258195</td>\n",
       "      <td>856</td>\n",
       "    </tr>\n",
       "    <tr>\n",
       "      <th>260</th>\n",
       "      <td>ARE</td>\n",
       "      <td>Emiratos Árabes Unidos</td>\n",
       "      <td>Oriente Medio y Norte de África</td>\n",
       "      <td>1960</td>\n",
       "      <td>11.001</td>\n",
       "      <td>0.118786</td>\n",
       "      <td>886</td>\n",
       "    </tr>\n",
       "    <tr>\n",
       "      <th>312</th>\n",
       "      <td>ARG</td>\n",
       "      <td>Argentina</td>\n",
       "      <td>América Latina y Caribe</td>\n",
       "      <td>1960</td>\n",
       "      <td>48815.100</td>\n",
       "      <td>2.367473</td>\n",
       "      <td>894</td>\n",
       "    </tr>\n",
       "    <tr>\n",
       "      <th>396</th>\n",
       "      <td>ARM</td>\n",
       "      <td>Armenia</td>\n",
       "      <td>Europa y Asia Central</td>\n",
       "      <td>1992</td>\n",
       "      <td>4052.040</td>\n",
       "      <td>1.174674</td>\n",
       "      <td>918</td>\n",
       "    </tr>\n",
       "    <tr>\n",
       "      <th>468</th>\n",
       "      <td>ATG</td>\n",
       "      <td>Antigua y Barbuda</td>\n",
       "      <td>América Latina y Caribe</td>\n",
       "      <td>1960</td>\n",
       "      <td>36.670</td>\n",
       "      <td>0.670617</td>\n",
       "      <td>900</td>\n",
       "    </tr>\n",
       "  </tbody>\n",
       "</table>\n",
       "</div>"
      ],
      "text/plain": [
       "    Código de país         Nombre del país                           Región  \\\n",
       "26             ABW                   Aruba          América Latina y Caribe   \n",
       "87             AND                 Andorra            Europa y Asia Central   \n",
       "104            AFG              Afganistán                      Sur de Asia   \n",
       "156            AGO                  Angola              África subsahariana   \n",
       "208            ALB                 Albania            Europa y Asia Central   \n",
       "260            ARE  Emiratos Árabes Unidos  Oriente Medio y Norte de África   \n",
       "312            ARG               Argentina          América Latina y Caribe   \n",
       "396            ARM                 Armenia            Europa y Asia Central   \n",
       "468            ATG       Antigua y Barbuda          América Latina y Caribe   \n",
       "\n",
       "      Año   CO2 (kt)  CO2 per cápita (toneladas métricas)  Clave_Hash  \n",
       "26   1986    179.683                             2.868319         910  \n",
       "87   1995    407.037                             6.374495         870  \n",
       "104  1960    414.371                             0.046068         858  \n",
       "156  1960    550.050                             0.104357         893  \n",
       "208  1960   2024.180                             1.258195         856  \n",
       "260  1960     11.001                             0.118786         886  \n",
       "312  1960  48815.100                             2.367473         894  \n",
       "396  1992   4052.040                             1.174674         918  \n",
       "468  1960     36.670                             0.670617         900  "
      ]
     },
     "execution_count": 124,
     "metadata": {},
     "output_type": "execute_result"
    }
   ],
   "source": [
    "df2.head(9)"
   ]
  },
  {
   "cell_type": "code",
   "execution_count": 135,
   "metadata": {},
   "outputs": [],
   "source": [
    "tu=[\"Clave_Hash\", \"Código de país\" , \"Nombre del país\" , \"Región\"]"
   ]
  },
  {
   "cell_type": "code",
   "execution_count": 136,
   "metadata": {},
   "outputs": [],
   "source": [
    "tu2=['Año', 'CO2 (kt)',\n",
    "       'CO2 per cápita (toneladas métricas)']"
   ]
  },
  {
   "cell_type": "code",
   "execution_count": 137,
   "metadata": {},
   "outputs": [],
   "source": [
    "df3=pd.DataFrame(df[tu2])"
   ]
  },
  {
   "cell_type": "code",
   "execution_count": 138,
   "metadata": {},
   "outputs": [
    {
     "data": {
      "text/html": [
       "<div>\n",
       "<style scoped>\n",
       "    .dataframe tbody tr th:only-of-type {\n",
       "        vertical-align: middle;\n",
       "    }\n",
       "\n",
       "    .dataframe tbody tr th {\n",
       "        vertical-align: top;\n",
       "    }\n",
       "\n",
       "    .dataframe thead th {\n",
       "        text-align: right;\n",
       "    }\n",
       "</style>\n",
       "<table border=\"1\" class=\"dataframe\">\n",
       "  <thead>\n",
       "    <tr style=\"text-align: right;\">\n",
       "      <th></th>\n",
       "      <th>Año</th>\n",
       "      <th>CO2 (kt)</th>\n",
       "      <th>CO2 per cápita (toneladas métricas)</th>\n",
       "    </tr>\n",
       "  </thead>\n",
       "  <tbody>\n",
       "    <tr>\n",
       "      <th>0</th>\n",
       "      <td>1986</td>\n",
       "      <td>179.683</td>\n",
       "      <td>2.868319</td>\n",
       "    </tr>\n",
       "    <tr>\n",
       "      <th>1</th>\n",
       "      <td>1987</td>\n",
       "      <td>447.374</td>\n",
       "      <td>7.234964</td>\n",
       "    </tr>\n",
       "    <tr>\n",
       "      <th>2</th>\n",
       "      <td>1988</td>\n",
       "      <td>612.389</td>\n",
       "      <td>10.026508</td>\n",
       "    </tr>\n",
       "    <tr>\n",
       "      <th>3</th>\n",
       "      <td>1989</td>\n",
       "      <td>649.059</td>\n",
       "      <td>10.634733</td>\n",
       "    </tr>\n",
       "    <tr>\n",
       "      <th>4</th>\n",
       "      <td>1990</td>\n",
       "      <td>1840.830</td>\n",
       "      <td>29.620165</td>\n",
       "    </tr>\n",
       "    <tr>\n",
       "      <th>...</th>\n",
       "      <td>...</td>\n",
       "      <td>...</td>\n",
       "      <td>...</td>\n",
       "    </tr>\n",
       "    <tr>\n",
       "      <th>9024</th>\n",
       "      <td>2007</td>\n",
       "      <td>9732.220</td>\n",
       "      <td>0.731867</td>\n",
       "    </tr>\n",
       "    <tr>\n",
       "      <th>9025</th>\n",
       "      <td>2008</td>\n",
       "      <td>7682.370</td>\n",
       "      <td>0.569255</td>\n",
       "    </tr>\n",
       "    <tr>\n",
       "      <th>9026</th>\n",
       "      <td>2009</td>\n",
       "      <td>8239.750</td>\n",
       "      <td>0.600521</td>\n",
       "    </tr>\n",
       "    <tr>\n",
       "      <th>9027</th>\n",
       "      <td>2010</td>\n",
       "      <td>9028.150</td>\n",
       "      <td>0.646073</td>\n",
       "    </tr>\n",
       "    <tr>\n",
       "      <th>9028</th>\n",
       "      <td>2011</td>\n",
       "      <td>9860.560</td>\n",
       "      <td>0.691698</td>\n",
       "    </tr>\n",
       "  </tbody>\n",
       "</table>\n",
       "<p>9029 rows × 3 columns</p>\n",
       "</div>"
      ],
      "text/plain": [
       "       Año  CO2 (kt)  CO2 per cápita (toneladas métricas)\n",
       "0     1986   179.683                             2.868319\n",
       "1     1987   447.374                             7.234964\n",
       "2     1988   612.389                            10.026508\n",
       "3     1989   649.059                            10.634733\n",
       "4     1990  1840.830                            29.620165\n",
       "...    ...       ...                                  ...\n",
       "9024  2007  9732.220                             0.731867\n",
       "9025  2008  7682.370                             0.569255\n",
       "9026  2009  8239.750                             0.600521\n",
       "9027  2010  9028.150                             0.646073\n",
       "9028  2011  9860.560                             0.691698\n",
       "\n",
       "[9029 rows x 3 columns]"
      ]
     },
     "execution_count": 138,
     "metadata": {},
     "output_type": "execute_result"
    }
   ],
   "source": [
    "df3"
   ]
  },
  {
   "cell_type": "code",
   "execution_count": 153,
   "metadata": {},
   "outputs": [
    {
     "ename": "TypeError",
     "evalue": "'StringMethods' object is not callable",
     "output_type": "error",
     "traceback": [
      "\u001b[1;31m---------------------------------------------------------------------------\u001b[0m",
      "\u001b[1;31mTypeError\u001b[0m                                 Traceback (most recent call last)",
      "Cell \u001b[1;32mIn[153], line 1\u001b[0m\n\u001b[1;32m----> 1\u001b[0m df4\u001b[39m=\u001b[39mpd\u001b[39m.\u001b[39mDataFrame(df[\u001b[39m'\u001b[39;49m\u001b[39mRegión\u001b[39;49m\u001b[39m'\u001b[39;49m]\u001b[39m.\u001b[39;49mstr()\u001b[39m.\u001b[39msplit(\u001b[39m'\u001b[39m\u001b[39m \u001b[39m\u001b[39m'\u001b[39m))\n",
      "\u001b[1;31mTypeError\u001b[0m: 'StringMethods' object is not callable"
     ]
    }
   ],
   "source": [
    "df4=pd.DataFrame()"
   ]
  },
  {
   "cell_type": "code",
   "execution_count": 160,
   "metadata": {},
   "outputs": [],
   "source": []
  },
  {
   "cell_type": "code",
   "execution_count": 158,
   "metadata": {},
   "outputs": [
    {
     "data": {
      "text/plain": [
       "0          Aruba\n",
       "1          Aruba\n",
       "2          Aruba\n",
       "3          Aruba\n",
       "4          Aruba\n",
       "          ...   \n",
       "9024    Zimbabue\n",
       "9025    Zimbabue\n",
       "9026    Zimbabue\n",
       "9027    Zimbabue\n",
       "9028    Zimbabue\n",
       "Name: Nombre del país, Length: 9029, dtype: object"
      ]
     },
     "execution_count": 158,
     "metadata": {},
     "output_type": "execute_result"
    }
   ],
   "source": [
    "df5"
   ]
  },
  {
   "cell_type": "code",
   "execution_count": null,
   "metadata": {},
   "outputs": [],
   "source": [
    "]"
   ]
  }
 ],
 "metadata": {
  "kernelspec": {
   "display_name": "Python 3",
   "language": "python",
   "name": "python3"
  },
  "language_info": {
   "codemirror_mode": {
    "name": "ipython",
    "version": 3
   },
   "file_extension": ".py",
   "mimetype": "text/x-python",
   "name": "python",
   "nbconvert_exporter": "python",
   "pygments_lexer": "ipython3",
   "version": "3.11.5"
  }
 },
 "nbformat": 4,
 "nbformat_minor": 4
}
