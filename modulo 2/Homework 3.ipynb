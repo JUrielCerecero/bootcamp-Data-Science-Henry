{
 "cells": [
  {
   "cell_type": "code",
   "execution_count": 1,
   "metadata": {},
   "outputs": [
    {
     "name": "stdout",
     "output_type": "stream",
     "text": [
      "a 0.8\n",
      "b 0.6666666666666667\n",
      "c 0.3 no es igual a P(A ∩ B) = 0.40\n"
     ]
    }
   ],
   "source": [
    "\"\"\"Suponga dos eventos, A y B, y que P(A) = 0.50, P(B) = 0.60 y P(A ∩ B) = 0.40\n",
    "a. Halle P(A | B).\n",
    "b. Halle P(B | A).\n",
    "c. ¿A y B son independientes? ¿Por qué sí o por qué no?\"\"\"\n",
    "print('a',0.40/0.5)\n",
    "print('b',0.40/0.60)\n",
    "print('c', 0.5*0.60,'no es igual a P(A ∩ B) = 0.40')\n"
   ]
  },
  {
   "cell_type": "code",
   "execution_count": 2,
   "metadata": {},
   "outputs": [
    {
     "data": {
      "text/plain": [
       "'Suponga dos eventos, A y B, que son mutuamente excluyentes. Admita, además, que P(A) = 0.30 y P(B) = 0.40.\\n        a. Obtenga P(A ∩ B). ¿Existe intersección entre los dos conjuntos?.\\n        b. Calcule P(A | B).\\n        c. Un estudiante de estadística argumenta que los conceptos de eventos mutuamente excluyentes y eventos independientes son en realidad lo mismo y que si los eventos son mutuamente excluyentes deben ser también independientes. \\n        ¿Está usted de acuerdo? Use la información sobre las probabilidades para justificar su respuesta.'"
      ]
     },
     "execution_count": 2,
     "metadata": {},
     "output_type": "execute_result"
    }
   ],
   "source": [
    "\"\"\"Suponga dos eventos, A y B, que son mutuamente excluyentes. Admita, además, que P(A) = 0.30 y P(B) = 0.40.\n",
    "        a. Obtenga P(A ∩ B). ¿Existe intersección entre los dos conjuntos?.\n",
    "        b. Calcule P(A | B).\n",
    "        c. Un estudiante de estadística argumenta que los conceptos de eventos mutuamente excluyentes y eventos independientes son en realidad lo mismo y que si los eventos son mutuamente excluyentes deben ser también independientes. \n",
    "        ¿Está usted de acuerdo? Use la información sobre las probabilidades para justificar su respuesta.\"\"\"\n"
   ]
  },
  {
   "cell_type": "code",
   "execution_count": 22,
   "metadata": {},
   "outputs": [
    {
     "name": "stdout",
     "output_type": "stream",
     "text": [
      "a 0 no existe interseccion dado que  al ser mutuamente exluyentes la interseccion equviale a 0\n",
      "b) P(A|B) = P(AnB) / P(B) -> 0 / 0.40  == 0 Dado que son mutuamente excluyentes y la prob de que suceda A dado que ya sucedio B es imposible, por su propia definición 0, \n"
     ]
    }
   ],
   "source": [
    "print('a',0, 'no existe interseccion dado que  al ser mutuamente exluyentes la interseccion equviale a 0')\n",
    "print('b) P(A|B) = P(AnB) / P(B) -> 0 / 0.40  == 0 Dado que son mutuamente excluyentes y la prob de que suceda A dado que ya sucedio B es imposible, por su propia definición 0, ')"
   ]
  },
  {
   "cell_type": "code",
   "execution_count": 4,
   "metadata": {},
   "outputs": [
    {
     "data": {
      "text/html": [
       "<div>\n",
       "<style scoped>\n",
       "    .dataframe tbody tr th:only-of-type {\n",
       "        vertical-align: middle;\n",
       "    }\n",
       "\n",
       "    .dataframe tbody tr th {\n",
       "        vertical-align: top;\n",
       "    }\n",
       "\n",
       "    .dataframe thead th {\n",
       "        text-align: right;\n",
       "    }\n",
       "</style>\n",
       "<table border=\"1\" class=\"dataframe\">\n",
       "  <thead>\n",
       "    <tr style=\"text-align: right;\">\n",
       "      <th></th>\n",
       "      <th>Nacional</th>\n",
       "      <th>importado</th>\n",
       "      <th>total</th>\n",
       "    </tr>\n",
       "  </thead>\n",
       "  <tbody>\n",
       "    <tr>\n",
       "      <th>menos de 40</th>\n",
       "      <td>24</td>\n",
       "      <td>6</td>\n",
       "      <td>30</td>\n",
       "    </tr>\n",
       "    <tr>\n",
       "      <th>entre 40 y 50</th>\n",
       "      <td>19</td>\n",
       "      <td>15</td>\n",
       "      <td>34</td>\n",
       "    </tr>\n",
       "    <tr>\n",
       "      <th>mas de 50</th>\n",
       "      <td>7</td>\n",
       "      <td>9</td>\n",
       "      <td>16</td>\n",
       "    </tr>\n",
       "    <tr>\n",
       "      <th>Total</th>\n",
       "      <td>50</td>\n",
       "      <td>30</td>\n",
       "      <td>80</td>\n",
       "    </tr>\n",
       "  </tbody>\n",
       "</table>\n",
       "</div>"
      ],
      "text/plain": [
       "               Nacional  importado  total\n",
       "menos de 40          24          6     30\n",
       "entre 40 y 50        19         15     34\n",
       " mas de 50            7          9     16\n",
       "Total                50         30     80"
      ]
     },
     "execution_count": 4,
     "metadata": {},
     "output_type": "execute_result"
    }
   ],
   "source": [
    "import pandas as pd \n",
    "pd.DataFrame({'Nacional':[24,19,7,50],'importado':[6,15,9,30],'total':[30,34,16,80]}, index=['menos de 40','entre 40 y 50', ' mas de 50','Total'])"
   ]
  },
  {
   "cell_type": "code",
   "execution_count": 5,
   "metadata": {},
   "outputs": [
    {
     "data": {
      "text/plain": [
       "'3.Si en la concesionaria se seleccionan dos ventas con reposición (Los sucesos son independientes.). Hallar la probabilidad as ventas sean:de que l\\na. La primera de un comprador de “menos de 40 años” y la segunda de uno de \"entre 40 y 50 años\".\\n\\nb. las dos sean de autos \"nacionales\".'"
      ]
     },
     "execution_count": 5,
     "metadata": {},
     "output_type": "execute_result"
    }
   ],
   "source": [
    "\"\"\"3.Si en la concesionaria se seleccionan dos ventas con reposición (Los sucesos son independientes.). Hallar la probabilidad as ventas sean:de que l\n",
    "a. La primera de un comprador de “menos de 40 años” y la segunda de uno de \"entre 40 y 50 años\".\n",
    "\n",
    "b. las dos sean de autos \"nacionales\".\"\"\"\n",
    "\n"
   ]
  },
  {
   "cell_type": "code",
   "execution_count": 6,
   "metadata": {},
   "outputs": [
    {
     "name": "stdout",
     "output_type": "stream",
     "text": [
      "a 0.159375\n",
      "b 0.390625\n"
     ]
    }
   ],
   "source": [
    "print('a',(30/80)*(34/80))\n",
    "print('b',(50/80)*(50/80))"
   ]
  },
  {
   "cell_type": "code",
   "execution_count": 7,
   "metadata": {},
   "outputs": [
    {
     "data": {
      "text/plain": [
       "'4.Si la selección de las dos ventas se realiza sin reposición. Hallar la probabilidad de que las ventas sean:\\nLos sucesos son condicionales.\\na. la primera de un comprador de “menos de 40 años” y la segunda de uno de \"entre 40 y 50 años\".\\n\\nb. las dos sean de autos \"nacionales\".\\n\\n5.Si la selección de las dos ventas se realiza sin reposición. Hallar la probabilidad de que las ventas sean:\\nLos sucesos son condicionales.\\na. De un comprador de “menos de 40 años” y de uno de \"entre 40 y 50 años\". Sin importar el orden.'"
      ]
     },
     "execution_count": 7,
     "metadata": {},
     "output_type": "execute_result"
    }
   ],
   "source": [
    "\"\"\"4.Si la selección de las dos ventas se realiza sin reposición. Hallar la probabilidad de que las ventas sean:\n",
    "Los sucesos son condicionales.\n",
    "a. la primera de un comprador de “menos de 40 años” y la segunda de uno de \"entre 40 y 50 años\".\n",
    "\n",
    "b. las dos sean de autos \"nacionales\".\n",
    "\n",
    "5.Si la selección de las dos ventas se realiza sin reposición. Hallar la probabilidad de que las ventas sean:\n",
    "Los sucesos son condicionales.\n",
    "a. De un comprador de “menos de 40 años” y de uno de \"entre 40 y 50 años\". Sin importar el orden.\"\"\"\n"
   ]
  },
  {
   "cell_type": "code",
   "execution_count": 8,
   "metadata": {},
   "outputs": [
    {
     "name": "stdout",
     "output_type": "stream",
     "text": [
      "4a 0.16139240506329114\n",
      "4b 0.3876582278481012\n",
      "5a 0.3227848101265823\n"
     ]
    }
   ],
   "source": [
    "print('4a',(30/80)*(34/79))\n",
    "print('4b',(50/80)*(49/79))\n",
    "print('5a',(30/80) * (34/79) + (34/80) * (30/79))"
   ]
  },
  {
   "cell_type": "markdown",
   "metadata": {},
   "source": []
  },
  {
   "cell_type": "code",
   "execution_count": 17,
   "metadata": {},
   "outputs": [
    {
     "data": {
      "text/html": [
       "<div>\n",
       "<style scoped>\n",
       "    .dataframe tbody tr th:only-of-type {\n",
       "        vertical-align: middle;\n",
       "    }\n",
       "\n",
       "    .dataframe tbody tr th {\n",
       "        vertical-align: top;\n",
       "    }\n",
       "\n",
       "    .dataframe thead th {\n",
       "        text-align: right;\n",
       "    }\n",
       "</style>\n",
       "<table border=\"1\" class=\"dataframe\">\n",
       "  <thead>\n",
       "    <tr style=\"text-align: right;\">\n",
       "      <th></th>\n",
       "      <th>Seguro médico si</th>\n",
       "      <th>Seguro médico no</th>\n",
       "      <th>Total</th>\n",
       "    </tr>\n",
       "  </thead>\n",
       "  <tbody>\n",
       "    <tr>\n",
       "      <th>18 34 AÑOS</th>\n",
       "      <td>750</td>\n",
       "      <td>170</td>\n",
       "      <td>920</td>\n",
       "    </tr>\n",
       "    <tr>\n",
       "      <th>35 o mayor</th>\n",
       "      <td>950</td>\n",
       "      <td>130</td>\n",
       "      <td>1080</td>\n",
       "    </tr>\n",
       "    <tr>\n",
       "      <th>Total</th>\n",
       "      <td>1700</td>\n",
       "      <td>300</td>\n",
       "      <td>2000</td>\n",
       "    </tr>\n",
       "  </tbody>\n",
       "</table>\n",
       "</div>"
      ],
      "text/plain": [
       "            Seguro médico si  Seguro médico no  Total\n",
       "18 34 AÑOS               750               170    920\n",
       "35 o mayor               950               130   1080\n",
       "Total                   1700               300   2000"
      ]
     },
     "execution_count": 17,
     "metadata": {},
     "output_type": "execute_result"
    }
   ],
   "source": [
    "df_seguro_med=pd.DataFrame({'Seguro médico si':[750,950,0],'Seguro médico no':[170,130,0]}, index=['18 34 AÑOS','35 o mayor','Total'])\n",
    "df_seguro_med['Total']=df_seguro_med['Seguro médico si']+df_seguro_med['Seguro médico no']\n",
    "df_seguro_med.iloc[-1]=df_seguro_med.sum()\n",
    "df_seguro_med"
   ]
  },
  {
   "cell_type": "code",
   "execution_count": 18,
   "metadata": {},
   "outputs": [
    {
     "data": {
      "text/html": [
       "<div>\n",
       "<style scoped>\n",
       "    .dataframe tbody tr th:only-of-type {\n",
       "        vertical-align: middle;\n",
       "    }\n",
       "\n",
       "    .dataframe tbody tr th {\n",
       "        vertical-align: top;\n",
       "    }\n",
       "\n",
       "    .dataframe thead th {\n",
       "        text-align: right;\n",
       "    }\n",
       "</style>\n",
       "<table border=\"1\" class=\"dataframe\">\n",
       "  <thead>\n",
       "    <tr style=\"text-align: right;\">\n",
       "      <th></th>\n",
       "      <th>Seguro médico si</th>\n",
       "      <th>Seguro médico no</th>\n",
       "      <th>Total</th>\n",
       "    </tr>\n",
       "  </thead>\n",
       "  <tbody>\n",
       "    <tr>\n",
       "      <th>18 34 AÑOS</th>\n",
       "      <td>0.375</td>\n",
       "      <td>0.085</td>\n",
       "      <td>0.46</td>\n",
       "    </tr>\n",
       "    <tr>\n",
       "      <th>35 o mayor</th>\n",
       "      <td>0.475</td>\n",
       "      <td>0.065</td>\n",
       "      <td>0.54</td>\n",
       "    </tr>\n",
       "    <tr>\n",
       "      <th>Total</th>\n",
       "      <td>0.850</td>\n",
       "      <td>0.150</td>\n",
       "      <td>1.00</td>\n",
       "    </tr>\n",
       "  </tbody>\n",
       "</table>\n",
       "</div>"
      ],
      "text/plain": [
       "            Seguro médico si  Seguro médico no  Total\n",
       "18 34 AÑOS             0.375             0.085   0.46\n",
       "35 o mayor             0.475             0.065   0.54\n",
       "Total                  0.850             0.150   1.00"
      ]
     },
     "execution_count": 18,
     "metadata": {},
     "output_type": "execute_result"
    }
   ],
   "source": [
    "df_prob_seg=df_seguro_med.copy()\n",
    "df_prob_seg=df_prob_seg/df_prob_seg.iloc[-1,-1]\n",
    "\n",
    "df_prob_seg"
   ]
  },
  {
   "cell_type": "code",
   "execution_count": 11,
   "metadata": {},
   "outputs": [
    {
     "data": {
      "text/plain": [
       "'Debido al aumento de los costos de los seguros, en un país 43 millones de personas, hay personas que no cuentan con un seguro médico. En la tabla siguiente se muestran datos muestrales representativos de la cantidad de personas que cuentan con seguro médico:\\nSeguro\\n\\na. Con estos datos elabore una tabla de probabilidad conjunta y úsela para responder las preguntas restantes.\\nb. ¿Qué indican las probabilidades marginales acerca de la edad de la población?\\nc. ¿Cuál es la probabilidad de que una persona tomada en forma aleatoria no tenga seguro médico?\\nd. Si la persona tiene entre 18 y 34 años, ¿cuál es la probabilidad de que no tenga seguro médico?\\ne. Si la persona tiene 35 años o más ¿cuál es la probabilidad de que no tenga seguro médico?\\nf. Si la persona no tiene seguro médico, ¿cuál es la probabilidad de que tenga entre 18 y 34 años?\\nPuedes complementar con los ejercicios del 33 al 40 del Capitula 4 del libro \"ESTADÍSTICA PARA ADMINISTRACIÓN Y ECONOMÍA'"
      ]
     },
     "execution_count": 11,
     "metadata": {},
     "output_type": "execute_result"
    }
   ],
   "source": [
    "\"\"\"Debido al aumento de los costos de los seguros, en un país 43 millones de personas, hay personas que no cuentan con un seguro médico. En la tabla siguiente se muestran datos muestrales representativos de la cantidad de personas que cuentan con seguro médico:\n",
    "Seguro\n",
    "\n",
    "a. Con estos datos elabore una tabla de probabilidad conjunta y úsela para responder las preguntas restantes.\n",
    "b. ¿Qué indican las probabilidades marginales acerca de la edad de la población?\n",
    "c. ¿Cuál es la probabilidad de que una persona tomada en forma aleatoria no tenga seguro médico?\n",
    "d. Si la persona tiene entre 18 y 34 años, ¿cuál es la probabilidad de que no tenga seguro médico?\n",
    "e. Si la persona tiene 35 años o más ¿cuál es la probabilidad de que no tenga seguro médico?\n",
    "f. Si la persona no tiene seguro médico, ¿cuál es la probabilidad de que tenga entre 18 y 34 años?\n",
    "Puedes complementar con los ejercicios del 33 al 40 del Capitula 4 del libro \"ESTADÍSTICA PARA ADMINISTRACIÓN Y ECONOMÍA\"\"\""
   ]
  },
  {
   "cell_type": "code",
   "execution_count": 30,
   "metadata": {},
   "outputs": [
    {
     "data": {
      "text/plain": [
       "0.5666666666666668"
      ]
     },
     "execution_count": 30,
     "metadata": {},
     "output_type": "execute_result"
    }
   ],
   "source": [
    "0.085/0.15"
   ]
  },
  {
   "cell_type": "code",
   "execution_count": 34,
   "metadata": {},
   "outputs": [
    {
     "name": "stdout",
     "output_type": "stream",
     "text": [
      "b. 46 % tienen entre 18 a 34 años y el 54 tienen de 35 o mas años\n",
      "c.  0.15\n",
      "d.0.1847826086956522 \n",
      "e. 0.12037037037037036\n",
      "f.0.5666666666666668\n"
     ]
    }
   ],
   "source": [
    "print('b. 46 % tienen entre 18 a 34 años y el 54 tienen de 35 o mas años')\n",
    "print('c.  0.15')\n",
    "print(f'd.{0.085/0.46} ')\n",
    "print(f'e. {0.065/0.54}')\n",
    "print(f'f.{0.085/0.15}',)"
   ]
  },
  {
   "cell_type": "code",
   "execution_count": null,
   "metadata": {},
   "outputs": [],
   "source": []
  }
 ],
 "metadata": {
  "kernelspec": {
   "display_name": "Python 3",
   "language": "python",
   "name": "python3"
  },
  "language_info": {
   "codemirror_mode": {
    "name": "ipython",
    "version": 3
   },
   "file_extension": ".py",
   "mimetype": "text/x-python",
   "name": "python",
   "nbconvert_exporter": "python",
   "pygments_lexer": "ipython3",
   "version": "3.11.5"
  },
  "orig_nbformat": 4
 },
 "nbformat": 4,
 "nbformat_minor": 2
}
